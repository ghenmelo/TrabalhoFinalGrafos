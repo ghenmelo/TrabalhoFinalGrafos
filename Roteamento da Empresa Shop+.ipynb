{
 "cells": [
  {
   "cell_type": "markdown",
   "metadata": {},
   "source": [
    "# Roteamento para empresa *Shop+*\n",
    "\n",
    "### Solução de roteamento para entrega de mercadorias para empresa *Shop+*\n",
    "\n",
    "Disciplina: *Algoritmos em Grafos (GCC218)*\n",
    "\n",
    "Docente: Mayron César de Oliveira Moreira\n",
    "\n",
    "Semestre: 2018/2\n",
    "\n",
    "Alunos: \n",
    "* Gabrielle Almeida Cuba\n",
    "* Guilherme Barbosa Ochikubo\n",
    "* Guilherme Henrique de Melo\n",
    "* João Paulo Pena\n",
    "* Leonardo Henrique de Braz\n",
    "* Ruan Marcos Basílio"
   ]
  },
  {
   "cell_type": "markdown",
   "metadata": {},
   "source": [
    "## Definições\n",
    "### Introdução e Problema\n",
    "\n",
    "A empresa * Shop+ * é uma grande varejista nacional e possui um problema ainda não satisfatoriamente resolvido. O custo de transporte de suas mercadorias constitui o gargalo da empresa, tanto para as vendas em loja física quanto para *e-commerce*. \n",
    "    \n",
    "Após um meticuloso estudo realizado pelo departamento financeiro da *Shop+*, foi constatado que a contratação de uma empresa de consultoria seria necessária para que a *Shop+* economizasse na entrega de seus produtos e, assim, pudesse investir o valor poupado na modernização do próprio negócio. A empresa necessita, em poucas palavras, de um sistema que diariamente lhe dê percursos otimizados para o atendimento da demanda de seus clientes.\n",
    "\n",
    "\n",
    "### Especificações\n",
    "* Inicialmente, para testar a eficácia deste sistema, a diretoria da Shop+ escolheu uma grande cidade na qual a empresa possui sede, composta por 5 centros de distribuição;\n",
    "* Segundo o gerente da Shop+, a realização das entregas de mercadorias nesta cidade é feita por uma frota heterogênea, composta de carros, vans (próprias e terceirizadas), mini-vans e motocicletas;\n",
    "* Por questões legais, os motoristas têm jornadas diárias de 7 horas de trabalho;\n",
    "* A capacidade de cada tipo de veículo é limitada pelo volume em m3 de pacotes que este é capaz de transportar; \n",
    "* O valor monetário em mercadorias que cada veículo leva em sua viagem deve ser superiormente limitado.\n",
    "\n",
    "### Considerações do problema\n",
    "\n",
    "Para solução, foram tomadas algumas decisões:\n",
    "\n",
    "* Como a empresa define os centros de distribuições, o emprego de demanda é definido e distribuido de forma balanceada entre os centros de distribuições. Ou seja, cada centro de distribuição possui entregas balanceadas pela quantidade de clientes que deverão ser atendidos e também pelo volume de encomendas a serem entregues pelos centros\n",
    "* O roteamento dos veículos para transporte deve ser dado com ênfase em redução de custos, alocados entre os centros de distribuição. Cada veículo poderá apenas ser utilizado em uma rota, sem rodízio de entregas. A somatória de gastos em rotas e o valor de alocação dos carros definem o preço a ser gasto nas entregas;"
   ]
  },
  {
   "cell_type": "markdown",
   "metadata": {},
   "source": [
    "## Solução do Problema\n",
    "\n",
    "Sejam os centros de distribuições definidos no arquivo abaixo:\n"
   ]
  },
  {
   "cell_type": "code",
   "execution_count": 1,
   "metadata": {
    "scrolled": true
   },
   "outputs": [
    {
     "name": "stdout",
     "output_type": "stream",
     "text": [
      "Digite o caminho para o arquivo de dados: InstanciaTeste.txt\n"
     ]
    }
   ],
   "source": [
    "caminho_arquivo = input(\"Digite o caminho para o arquivo de dados: \")"
   ]
  },
  {
   "cell_type": "code",
   "execution_count": null,
   "metadata": {},
   "outputs": [],
   "source": []
  }
 ],
 "metadata": {
  "kernelspec": {
   "display_name": "Python 3",
   "language": "python",
   "name": "python3"
  },
  "language_info": {
   "codemirror_mode": {
    "name": "ipython",
    "version": 3
   },
   "file_extension": ".py",
   "mimetype": "text/x-python",
   "name": "python",
   "nbconvert_exporter": "python",
   "pygments_lexer": "ipython3",
   "version": "3.6.7"
  }
 },
 "nbformat": 4,
 "nbformat_minor": 2
}
